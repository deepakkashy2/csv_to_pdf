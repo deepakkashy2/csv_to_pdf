{
 "cells": [
  {
   "cell_type": "code",
   "execution_count": 1,
   "metadata": {},
   "outputs": [
    {
     "name": "stdout",
     "output_type": "stream",
     "text": [
      "Loading pages (1/6)\r\n",
      "[>                                                           ] 0%\r",
      "[======>                                                     ] 10%\r",
      "[=========>                                                  ] 16%\r",
      "[===================>                                        ] 32%\r",
      "[============================================================] 100%\r",
      "Counting pages (2/6)                                               \r\n",
      "[============================================================] Object 1 of 1\r",
      "Resolving links (4/6)                                                       \r\n",
      "[============================================================] Object 1 of 1\r",
      "Loading headers and footers (5/6)                                           \r\n",
      "Printing pages (6/6)\r\n",
      "[>                                                           ] Preparing\r",
      "[===============>                                            ] Page 1 of 4\r",
      "[==============================>                             ] Page 2 of 4\r",
      "[=============================================>              ] Page 3 of 4\r",
      "[============================================================] Page 4 of 4\r",
      "Done                                                                      \r\n"
     ]
    },
    {
     "data": {
      "text/plain": [
       "True"
      ]
     },
     "execution_count": 1,
     "metadata": {},
     "output_type": "execute_result"
    }
   ],
   "source": [
    "from __future__ import print_function\n",
    "import pandas\n",
    "import os\n",
    "\n",
    "import numpy as np\n",
    "\n",
    "\n",
    "df=pandas.read_csv(\"dd.csv\")\n",
    "\n",
    "##print(type(df))\n",
    "##print(df)\n",
    "\n",
    "\n",
    "from jinja2 import Environment, FileSystemLoader\n",
    "env = Environment(loader=FileSystemLoader('.'))\n",
    "template = env.get_template(\"myreport1.html\")\n",
    "\n",
    "template_vars = {\"title\" : \"Sales Funnel Report - National\",\n",
    "                 \"x\": df,\n",
    "                \"Header\":\"Employee Information\"}\n",
    "### Name:{{ Name }}x Address:{{ Name }} Phone:{{ Name }}\n",
    "html_out = template.render(template_vars)\n",
    "##print(html_out)\n",
    "import pdfkit\n",
    "path_wkhtmltopdf = r'C:\\Users\\deepak\\Desktop\\pythoncodes\\work_on_csv\\wkhtmltox-0.12.6-1.mxe-cross-win64\\wkhtmltox\\bin\\wkhtmltopdf.exe'\n",
    "config = pdfkit.configuration(wkhtmltopdf=path_wkhtmltopdf)\n",
    "###pdfkit.from_url(\"http://google.com\", \"out.pdf\",)\n",
    "options = {\n",
    "\t    'page-size': 'Letter',\n",
    "\t    'margin-top': '0.75in',\n",
    "\t    'margin-right': '0.75in',\n",
    "\t    'margin-bottom': '0.75in',\n",
    "\t    'margin-left': '0.75in',\n",
    "\t    'encoding': \"UTF-8\",\n",
    "\t    'custom-header' : [\n",
    "\t    \t('Accept-Encoding', 'gzip')\n",
    "\t    ],\n",
    "\t    'cookie': [\n",
    "\t    \t('cookie-name1', 'cookie-value1'),\n",
    "\t    \t('cookie-name2', 'cookie-value2'),\n",
    "\t    ],\n",
    "\t    'no-outline': None\n",
    "\t}\n",
    "\n",
    "pdfkit.from_string(html_out, \"EmplyeeInfo.pdf\",configuration=config,options=options)"
   ]
  },
  {
   "cell_type": "code",
   "execution_count": null,
   "metadata": {},
   "outputs": [],
   "source": []
  },
  {
   "cell_type": "code",
   "execution_count": null,
   "metadata": {},
   "outputs": [],
   "source": []
  },
  {
   "cell_type": "code",
   "execution_count": null,
   "metadata": {},
   "outputs": [],
   "source": []
  },
  {
   "cell_type": "code",
   "execution_count": null,
   "metadata": {},
   "outputs": [],
   "source": []
  }
 ],
 "metadata": {
  "kernelspec": {
   "display_name": "Python 3",
   "language": "python",
   "name": "python3"
  },
  "language_info": {
   "codemirror_mode": {
    "name": "ipython",
    "version": 3
   },
   "file_extension": ".py",
   "mimetype": "text/x-python",
   "name": "python",
   "nbconvert_exporter": "python",
   "pygments_lexer": "ipython3",
   "version": "3.8.5"
  }
 },
 "nbformat": 4,
 "nbformat_minor": 4
}
