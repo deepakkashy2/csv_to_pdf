{
 "cells": [
  {
   "cell_type": "code",
   "execution_count": 5,
   "metadata": {},
   "outputs": [
    {
     "name": "stdout",
     "output_type": "stream",
     "text": [
      "Loading pages (1/6)\r\n",
      "[>                                                           ] 0%\r",
      "[======>                                                     ] 10%\r",
      "[==================>                                         ] 30%\r",
      "[======================>                                     ] 38%\r",
      "[===========================>                                ] 46%\r",
      "[==============================>                             ] 51%\r",
      "[=================================>                          ] 55%\r",
      "[==================================>                         ] 57%\r",
      "[======================================>                     ] 64%\r",
      "[=============================================>              ] 75%\r",
      "[================================================>           ] 80%\r",
      "[===================================================>        ] 86%\r",
      "[============================================================] 100%\r",
      "Counting pages (2/6)                                               \r\n",
      "[============================================================] Object 1 of 1\r",
      "Resolving links (4/6)                                                       \r\n",
      "[============================================================] Object 1 of 1\r",
      "Loading headers and footers (5/6)                                           \r\n",
      "Printing pages (6/6)\r\n",
      "[>                                                           ] Preparing\r",
      "[============================================================] Page 1 of 1\r",
      "Done                                                                      \r\n"
     ]
    },
    {
     "data": {
      "text/plain": [
       "True"
      ]
     },
     "execution_count": 5,
     "metadata": {},
     "output_type": "execute_result"
    }
   ],
   "source": [
    "import pdfkit\n",
    "\n",
    "import pdfkit\n",
    "path_wkhtmltopdf = r'C:\\Users\\deepak\\Desktop\\pythoncodes\\work_on_csv\\wkhtmltox-0.12.6-1.mxe-cross-win64\\wkhtmltox\\bin\\wkhtmltopdf.exe'\n",
    "config = pdfkit.configuration(wkhtmltopdf=path_wkhtmltopdf)\n",
    "pdfkit.from_url(\"http://google.com\", \"out.pdf\", configuration=config)\n",
    "\n"
   ]
  },
  {
   "cell_type": "code",
   "execution_count": 11,
   "metadata": {},
   "outputs": [
    {
     "name": "stdout",
     "output_type": "stream",
     "text": [
      "<class 'pandas.core.frame.DataFrame'>\n",
      "          name         addess     phone\n",
      "0       deepak       82 shant  999999.0\n",
      "1  ajay bhaiya  555 en.999991       NaN\n",
      "Loading pages (1/6)\n",
      "Counting pages (2/6)                                               \n",
      "Resolving links (4/6)                                                       \n",
      "Loading headers and footers (5/6)                                           \n",
      "Printing pages (6/6)\n",
      "Done                                                                      \n"
     ]
    },
    {
     "data": {
      "text/plain": [
       "True"
      ]
     },
     "execution_count": 11,
     "metadata": {},
     "output_type": "execute_result"
    }
   ],
   "source": [
    "import pandas\n",
    "import os\n",
    "import numpy as np\n",
    "\n",
    "\n",
    "df=pandas.read_csv(\"dd.csv\")\n",
    "\n",
    "print(type(df))\n",
    "print(df)\n",
    "\n",
    "\n",
    "sales_report = df\n",
    "sales_report.head()\n",
    "from jinja2 import Environment, FileSystemLoader\n",
    "env = Environment(loader=FileSystemLoader('.'))\n",
    "template = env.get_template(\"myreport1.html\")\n",
    "\n",
    "template_vars = {\"title\" : \"Emplyee Report\",\n",
    "                 \"\": sales_report.to_html()}\n",
    "html_out = template.render(template_vars)\n",
    "import pdfkit\n",
    "path_wkhtmltopdf = r'C:\\Users\\deepak\\Desktop\\pythoncodes\\work_on_csv\\wkhtmltox-0.12.6-1.mxe-cross-win64\\wkhtmltox\\bin\\wkhtmltopdf.exe'\n",
    "config = pdfkit.configuration(wkhtmltopdf=path_wkhtmltopdf)\n",
    "###pdfkit.from_url(\"http://google.com\", \"out.pdf\",)\n",
    "pdfkit.from_string(html_out, \"out1.pdf\",configuration=config)"
   ]
  },
  {
   "cell_type": "code",
   "execution_count": null,
   "metadata": {},
   "outputs": [],
   "source": []
  },
  {
   "cell_type": "code",
   "execution_count": null,
   "metadata": {},
   "outputs": [],
   "source": []
  }
 ],
 "metadata": {
  "kernelspec": {
   "display_name": "Python 3",
   "language": "python",
   "name": "python3"
  },
  "language_info": {
   "codemirror_mode": {
    "name": "ipython",
    "version": 3
   },
   "file_extension": ".py",
   "mimetype": "text/x-python",
   "name": "python",
   "nbconvert_exporter": "python",
   "pygments_lexer": "ipython3",
   "version": "3.8.5"
  }
 },
 "nbformat": 4,
 "nbformat_minor": 4
}
